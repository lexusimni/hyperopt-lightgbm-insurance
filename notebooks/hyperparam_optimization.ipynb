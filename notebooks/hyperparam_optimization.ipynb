{
 "cells": [
  {
   "cell_type": "code",
   "execution_count": 15,
   "id": "bfa97a1b",
   "metadata": {},
   "outputs": [],
   "source": [
    "# 1️⃣ Imports & Configuration\n",
    "import pandas as pd\n",
    "import numpy as np\n",
    "import optuna\n",
    "import lightgbm as lgb\n",
    "import shap\n",
    "import matplotlib.pyplot as plt\n",
    "import seaborn as sns\n",
    "import json\n",
    "import os\n",
    "import warnings\n",
    "warnings.filterwarnings(\"ignore\")\n",
    "\n",
    "from sklearn.model_selection import train_test_split, StratifiedKFold, cross_val_score\n",
    "from sklearn.metrics import roc_auc_score, classification_report, roc_curve, confusion_matrix\n",
    "from optuna.samplers import TPESampler, RandomSampler\n",
    "from optuna.integration import LightGBMPruningCallback\n",
    "from optuna.pruners import SuccessiveHalvingPruner\n"
   ]
  },
  {
   "cell_type": "code",
   "execution_count": 16,
   "id": "a796c1ad",
   "metadata": {},
   "outputs": [
    {
     "name": "stdout",
     "output_type": "stream",
     "text": [
      "Shape: (381109, 12)\n"
     ]
    },
    {
     "data": {
      "text/html": [
       "<div>\n",
       "<style scoped>\n",
       "    .dataframe tbody tr th:only-of-type {\n",
       "        vertical-align: middle;\n",
       "    }\n",
       "\n",
       "    .dataframe tbody tr th {\n",
       "        vertical-align: top;\n",
       "    }\n",
       "\n",
       "    .dataframe thead th {\n",
       "        text-align: right;\n",
       "    }\n",
       "</style>\n",
       "<table border=\"1\" class=\"dataframe\">\n",
       "  <thead>\n",
       "    <tr style=\"text-align: right;\">\n",
       "      <th></th>\n",
       "      <th>id</th>\n",
       "      <th>Gender</th>\n",
       "      <th>Age</th>\n",
       "      <th>Driving_License</th>\n",
       "      <th>Region_Code</th>\n",
       "      <th>Previously_Insured</th>\n",
       "      <th>Vehicle_Age</th>\n",
       "      <th>Vehicle_Damage</th>\n",
       "      <th>Annual_Premium</th>\n",
       "      <th>Policy_Sales_Channel</th>\n",
       "      <th>Vintage</th>\n",
       "      <th>Response</th>\n",
       "    </tr>\n",
       "  </thead>\n",
       "  <tbody>\n",
       "    <tr>\n",
       "      <th>0</th>\n",
       "      <td>1</td>\n",
       "      <td>Male</td>\n",
       "      <td>44</td>\n",
       "      <td>1</td>\n",
       "      <td>28.0</td>\n",
       "      <td>0</td>\n",
       "      <td>&gt; 2 Years</td>\n",
       "      <td>Yes</td>\n",
       "      <td>40454.0</td>\n",
       "      <td>26.0</td>\n",
       "      <td>217</td>\n",
       "      <td>1</td>\n",
       "    </tr>\n",
       "    <tr>\n",
       "      <th>1</th>\n",
       "      <td>2</td>\n",
       "      <td>Male</td>\n",
       "      <td>76</td>\n",
       "      <td>1</td>\n",
       "      <td>3.0</td>\n",
       "      <td>0</td>\n",
       "      <td>1-2 Year</td>\n",
       "      <td>No</td>\n",
       "      <td>33536.0</td>\n",
       "      <td>26.0</td>\n",
       "      <td>183</td>\n",
       "      <td>0</td>\n",
       "    </tr>\n",
       "    <tr>\n",
       "      <th>2</th>\n",
       "      <td>3</td>\n",
       "      <td>Male</td>\n",
       "      <td>47</td>\n",
       "      <td>1</td>\n",
       "      <td>28.0</td>\n",
       "      <td>0</td>\n",
       "      <td>&gt; 2 Years</td>\n",
       "      <td>Yes</td>\n",
       "      <td>38294.0</td>\n",
       "      <td>26.0</td>\n",
       "      <td>27</td>\n",
       "      <td>1</td>\n",
       "    </tr>\n",
       "    <tr>\n",
       "      <th>3</th>\n",
       "      <td>4</td>\n",
       "      <td>Male</td>\n",
       "      <td>21</td>\n",
       "      <td>1</td>\n",
       "      <td>11.0</td>\n",
       "      <td>1</td>\n",
       "      <td>&lt; 1 Year</td>\n",
       "      <td>No</td>\n",
       "      <td>28619.0</td>\n",
       "      <td>152.0</td>\n",
       "      <td>203</td>\n",
       "      <td>0</td>\n",
       "    </tr>\n",
       "    <tr>\n",
       "      <th>4</th>\n",
       "      <td>5</td>\n",
       "      <td>Female</td>\n",
       "      <td>29</td>\n",
       "      <td>1</td>\n",
       "      <td>41.0</td>\n",
       "      <td>1</td>\n",
       "      <td>&lt; 1 Year</td>\n",
       "      <td>No</td>\n",
       "      <td>27496.0</td>\n",
       "      <td>152.0</td>\n",
       "      <td>39</td>\n",
       "      <td>0</td>\n",
       "    </tr>\n",
       "  </tbody>\n",
       "</table>\n",
       "</div>"
      ],
      "text/plain": [
       "   id  Gender  Age  Driving_License  Region_Code  Previously_Insured  \\\n",
       "0   1    Male   44                1         28.0                   0   \n",
       "1   2    Male   76                1          3.0                   0   \n",
       "2   3    Male   47                1         28.0                   0   \n",
       "3   4    Male   21                1         11.0                   1   \n",
       "4   5  Female   29                1         41.0                   1   \n",
       "\n",
       "  Vehicle_Age Vehicle_Damage  Annual_Premium  Policy_Sales_Channel  Vintage  \\\n",
       "0   > 2 Years            Yes         40454.0                  26.0      217   \n",
       "1    1-2 Year             No         33536.0                  26.0      183   \n",
       "2   > 2 Years            Yes         38294.0                  26.0       27   \n",
       "3    < 1 Year             No         28619.0                 152.0      203   \n",
       "4    < 1 Year             No         27496.0                 152.0       39   \n",
       "\n",
       "   Response  \n",
       "0         1  \n",
       "1         0  \n",
       "2         1  \n",
       "3         0  \n",
       "4         0  "
      ]
     },
     "execution_count": 16,
     "metadata": {},
     "output_type": "execute_result"
    }
   ],
   "source": [
    "# 2️⃣ Load & Inspect Data\n",
    "df = pd.read_csv(\"../data/train.csv\")\n",
    "print(\"Shape:\", df.shape)\n",
    "df.head()\n"
   ]
  },
  {
   "cell_type": "code",
   "execution_count": 17,
   "id": "b78cfa1c",
   "metadata": {},
   "outputs": [],
   "source": [
    "# 3️⃣ Preprocessing\n",
    "df.drop(columns=[\"id\"], inplace=True)\n",
    "\n",
    "# Encode binary and categorical features\n",
    "df[\"Gender\"] = df[\"Gender\"].map({\"Male\": 1, \"Female\": 0})\n",
    "df[\"Vehicle_Damage\"] = df[\"Vehicle_Damage\"].map({\"Yes\": 1, \"No\": 0})\n",
    "df[\"Vehicle_Age\"] = df[\"Vehicle_Age\"].map({\n",
    "    \"< 1 Year\": 0,\n",
    "    \"1-2 Year\": 1,\n",
    "    \"> 2 Years\": 2\n",
    "})\n",
    "\n",
    "X = df.drop(\"Response\", axis=1)\n",
    "y = df[\"Response\"]\n",
    "\n",
    "# Train-val split\n",
    "X_train, X_val, y_train, y_val = train_test_split(\n",
    "    X, y, test_size=0.2, stratify=y, random_state=42\n",
    ")\n"
   ]
  },
  {
   "cell_type": "code",
   "execution_count": 18,
   "id": "cabf3cb4",
   "metadata": {},
   "outputs": [
    {
     "name": "stdout",
     "output_type": "stream",
     "text": [
      "Training until validation scores don't improve for 30 rounds\n",
      "Early stopping, best iteration is:\n",
      "[55]\tvalid_0's auc: 0.857968\tvalid_0's binary_logloss: 0.264859\n",
      "Baseline AUC: 0.8580\n"
     ]
    }
   ],
   "source": [
    "# 4️⃣ Baseline LightGBM (using callbacks for early stopping)\n",
    "\n",
    "baseline_model = lgb.LGBMClassifier(n_estimators=1000)\n",
    "\n",
    "baseline_model.fit(\n",
    "    X_train,\n",
    "    y_train,\n",
    "    eval_set=[(X_val, y_val)],\n",
    "    eval_metric=\"auc\",\n",
    "    callbacks=[\n",
    "        lgb.early_stopping(stopping_rounds=30),\n",
    "        lgb.log_evaluation(period=0)  # silences logging\n",
    "    ]\n",
    ")\n",
    "\n",
    "y_pred_prob = baseline_model.predict_proba(X_val)[:, 1]\n",
    "baseline_auc = roc_auc_score(y_val, y_pred_prob)\n",
    "print(f\"Baseline AUC: {baseline_auc:.4f}\")\n"
   ]
  },
  {
   "cell_type": "code",
   "execution_count": 19,
   "id": "2a655114",
   "metadata": {},
   "outputs": [],
   "source": [
    "# 4️⃣.5 Load Config YAML\n",
    "\n",
    "import yaml\n",
    "\n",
    "def load_search_config(path):\n",
    "    with open(path, \"r\") as f:\n",
    "        return yaml.safe_load(f)\n",
    "\n",
    "config = load_search_config(\"../config/search_config.yaml\")\n"
   ]
  },
  {
   "cell_type": "code",
   "execution_count": 20,
   "id": "57c0e066",
   "metadata": {},
   "outputs": [],
   "source": [
    "# 5️⃣ Optuna Objective with Pruning\n",
    "def objective(trial):\n",
    "    param = {\n",
    "        \"objective\": \"binary\",\n",
    "        \"metric\": \"auc\",\n",
    "        \"verbosity\": -1,\n",
    "        \"boosting_type\": \"gbdt\",\n",
    "        \"learning_rate\": trial.suggest_loguniform(\"learning_rate\", 1e-3, 0.2),\n",
    "        \"num_leaves\": trial.suggest_int(\"num_leaves\", 20, 150),\n",
    "        \"max_depth\": trial.suggest_int(\"max_depth\", 3, 12),\n",
    "        \"min_data_in_leaf\": trial.suggest_int(\"min_data_in_leaf\", 10, 100),\n",
    "        \"feature_fraction\": trial.suggest_uniform(\"feature_fraction\", 0.5, 1.0),\n",
    "        \"bagging_fraction\": trial.suggest_uniform(\"bagging_fraction\", 0.5, 1.0),\n",
    "        \"bagging_freq\": trial.suggest_int(\"bagging_freq\", 1, 7),\n",
    "        \"lambda_l1\": trial.suggest_loguniform(\"lambda_l1\", 1e-8, 10.0),\n",
    "        \"lambda_l2\": trial.suggest_loguniform(\"lambda_l2\", 1e-8, 10.0),\n",
    "        \"scale_pos_weight\": 1.0  # Optional: trial.suggest_float(\"scale_pos_weight\", 1.0, 5.0)\n",
    "    }\n",
    "\n",
    "    cv = StratifiedKFold(n_splits=5, shuffle=True, random_state=42)\n",
    "    auc_scores = []\n",
    "\n",
    "    for train_idx, valid_idx in cv.split(X, y):\n",
    "        dtrain = lgb.Dataset(X.iloc[train_idx], label=y.iloc[train_idx])\n",
    "        dvalid = lgb.Dataset(X.iloc[valid_idx], label=y.iloc[valid_idx])\n",
    "\n",
    "        gbm = lgb.train(\n",
    "            param,\n",
    "            dtrain,\n",
    "            valid_sets=[dvalid],\n",
    "            num_boost_round=1000,\n",
    "            callbacks=[\n",
    "                lgb.early_stopping(stopping_rounds=50),\n",
    "                LightGBMPruningCallback(trial, \"auc\"),\n",
    "                lgb.log_evaluation(period=0)\n",
    "            ]\n",
    "        )\n",
    "\n",
    "        preds = gbm.predict(X.iloc[valid_idx])\n",
    "        auc_scores.append(roc_auc_score(y.iloc[valid_idx], preds))\n",
    "\n",
    "    return np.mean(auc_scores)\n"
   ]
  },
  {
   "cell_type": "code",
   "execution_count": 21,
   "id": "343c0a9c",
   "metadata": {},
   "outputs": [
    {
     "name": "stderr",
     "output_type": "stream",
     "text": [
      "[I 2025-08-03 15:31:56,659] A new study created in memory with name: no-name-b76cfc96-e66f-42fb-a78c-b45c05abc71e\n"
     ]
    },
    {
     "name": "stdout",
     "output_type": "stream",
     "text": [
      "Training until validation scores don't improve for 50 rounds\n",
      "Early stopping, best iteration is:\n",
      "[227]\tvalid_0's auc: 0.857615\n",
      "Training until validation scores don't improve for 50 rounds\n",
      "Early stopping, best iteration is:\n",
      "[406]\tvalid_0's auc: 0.85651\n",
      "Training until validation scores don't improve for 50 rounds\n",
      "Early stopping, best iteration is:\n",
      "[197]\tvalid_0's auc: 0.858223\n",
      "Training until validation scores don't improve for 50 rounds\n",
      "Early stopping, best iteration is:\n",
      "[213]\tvalid_0's auc: 0.859704\n",
      "Training until validation scores don't improve for 50 rounds\n"
     ]
    },
    {
     "name": "stderr",
     "output_type": "stream",
     "text": [
      "[I 2025-08-03 15:32:02,560] Trial 0 finished with value: 0.8584541727743156 and parameters: {'learning_rate': 0.04651854585555216, 'num_leaves': 32, 'max_depth': 11, 'min_data_in_leaf': 93, 'feature_fraction': 0.8055042340349872, 'bagging_fraction': 0.7282699516857707, 'bagging_freq': 3, 'lambda_l1': 0.004893616962314094, 'lambda_l2': 0.000365174481237317}. Best is trial 0 with value: 0.8584541727743156.\n"
     ]
    },
    {
     "name": "stdout",
     "output_type": "stream",
     "text": [
      "Early stopping, best iteration is:\n",
      "[138]\tvalid_0's auc: 0.860218\n",
      "Training until validation scores don't improve for 50 rounds\n",
      "Early stopping, best iteration is:\n",
      "[69]\tvalid_0's auc: 0.856686\n",
      "Training until validation scores don't improve for 50 rounds\n",
      "Early stopping, best iteration is:\n",
      "[83]\tvalid_0's auc: 0.855303\n",
      "Training until validation scores don't improve for 50 rounds\n",
      "Early stopping, best iteration is:\n",
      "[55]\tvalid_0's auc: 0.857276\n",
      "Training until validation scores don't improve for 50 rounds\n",
      "Early stopping, best iteration is:\n",
      "[63]\tvalid_0's auc: 0.858542\n",
      "Training until validation scores don't improve for 50 rounds\n"
     ]
    },
    {
     "name": "stderr",
     "output_type": "stream",
     "text": [
      "[I 2025-08-03 15:32:05,974] Trial 1 finished with value: 0.8574018598671695 and parameters: {'learning_rate': 0.07664459168430289, 'num_leaves': 104, 'max_depth': 9, 'min_data_in_leaf': 21, 'feature_fraction': 0.7683517225192531, 'bagging_fraction': 0.6149860866647034, 'bagging_freq': 6, 'lambda_l1': 0.003470641818234779, 'lambda_l2': 0.00029508311377756107}. Best is trial 0 with value: 0.8584541727743156.\n",
      "[I 2025-08-03 15:32:06,115] Trial 2 pruned. Trial was pruned at iteration 4.\n"
     ]
    },
    {
     "name": "stdout",
     "output_type": "stream",
     "text": [
      "Early stopping, best iteration is:\n",
      "[60]\tvalid_0's auc: 0.859204\n",
      "Training until validation scores don't improve for 50 rounds\n"
     ]
    },
    {
     "name": "stderr",
     "output_type": "stream",
     "text": [
      "[I 2025-08-03 15:32:06,338] Trial 3 pruned. Trial was pruned at iteration 16.\n"
     ]
    },
    {
     "name": "stdout",
     "output_type": "stream",
     "text": [
      "Training until validation scores don't improve for 50 rounds\n"
     ]
    },
    {
     "name": "stderr",
     "output_type": "stream",
     "text": [
      "[I 2025-08-03 15:32:06,485] Trial 4 pruned. Trial was pruned at iteration 4.\n",
      "[I 2025-08-03 15:32:06,604] Trial 5 pruned. Trial was pruned at iteration 4.\n"
     ]
    },
    {
     "name": "stdout",
     "output_type": "stream",
     "text": [
      "Training until validation scores don't improve for 50 rounds\n",
      "Training until validation scores don't improve for 50 rounds\n"
     ]
    },
    {
     "name": "stderr",
     "output_type": "stream",
     "text": [
      "[I 2025-08-03 15:32:06,739] Trial 6 pruned. Trial was pruned at iteration 4.\n",
      "[I 2025-08-03 15:32:06,870] Trial 7 pruned. Trial was pruned at iteration 4.\n"
     ]
    },
    {
     "name": "stdout",
     "output_type": "stream",
     "text": [
      "Training until validation scores don't improve for 50 rounds\n",
      "Training until validation scores don't improve for 50 rounds\n"
     ]
    },
    {
     "name": "stderr",
     "output_type": "stream",
     "text": [
      "[I 2025-08-03 15:32:07,017] Trial 8 pruned. Trial was pruned at iteration 4.\n",
      "[I 2025-08-03 15:32:07,139] Trial 9 pruned. Trial was pruned at iteration 4.\n"
     ]
    },
    {
     "name": "stdout",
     "output_type": "stream",
     "text": [
      "Training until validation scores don't improve for 50 rounds\n",
      "Training until validation scores don't improve for 50 rounds\n"
     ]
    },
    {
     "name": "stderr",
     "output_type": "stream",
     "text": [
      "[I 2025-08-03 15:32:07,288] Trial 10 pruned. Trial was pruned at iteration 4.\n",
      "[I 2025-08-03 15:32:07,432] Trial 11 pruned. Trial was pruned at iteration 4.\n"
     ]
    },
    {
     "name": "stdout",
     "output_type": "stream",
     "text": [
      "Training until validation scores don't improve for 50 rounds\n",
      "Training until validation scores don't improve for 50 rounds\n"
     ]
    },
    {
     "name": "stderr",
     "output_type": "stream",
     "text": [
      "[I 2025-08-03 15:32:07,686] Trial 12 pruned. Trial was pruned at iteration 16.\n"
     ]
    },
    {
     "name": "stdout",
     "output_type": "stream",
     "text": [
      "Training until validation scores don't improve for 50 rounds\n",
      "Training until validation scores don't improve for 50 rounds\n",
      "Early stopping, best iteration is:\n",
      "[50]\tvalid_0's auc: 0.857156\n",
      "Training until validation scores don't improve for 50 rounds\n",
      "Early stopping, best iteration is:\n",
      "[44]\tvalid_0's auc: 0.856322\n",
      "Training until validation scores don't improve for 50 rounds\n",
      "Early stopping, best iteration is:\n",
      "[29]\tvalid_0's auc: 0.857154\n",
      "Training until validation scores don't improve for 50 rounds\n",
      "Early stopping, best iteration is:\n",
      "[25]\tvalid_0's auc: 0.858667\n",
      "Training until validation scores don't improve for 50 rounds\n"
     ]
    },
    {
     "name": "stderr",
     "output_type": "stream",
     "text": [
      "[I 2025-08-03 15:32:10,345] Trial 13 finished with value: 0.8577139799398379 and parameters: {'learning_rate': 0.17671266121571486, 'num_leaves': 72, 'max_depth': 12, 'min_data_in_leaf': 39, 'feature_fraction': 0.861176225157357, 'bagging_fraction': 0.7988200443185606, 'bagging_freq': 5, 'lambda_l1': 3.60693853728719, 'lambda_l2': 5.14323044193371}. Best is trial 0 with value: 0.8584541727743156.\n"
     ]
    },
    {
     "name": "stdout",
     "output_type": "stream",
     "text": [
      "Early stopping, best iteration is:\n",
      "[35]\tvalid_0's auc: 0.85927\n",
      "Training until validation scores don't improve for 50 rounds\n"
     ]
    },
    {
     "name": "stderr",
     "output_type": "stream",
     "text": [
      "[I 2025-08-03 15:32:10,534] Trial 14 pruned. Trial was pruned at iteration 16.\n",
      "[I 2025-08-03 15:32:10,679] Trial 15 pruned. Trial was pruned at iteration 4.\n",
      "[I 2025-08-03 15:32:10,835] Trial 16 pruned. Trial was pruned at iteration 4.\n"
     ]
    },
    {
     "name": "stdout",
     "output_type": "stream",
     "text": [
      "Training until validation scores don't improve for 50 rounds\n",
      "Training until validation scores don't improve for 50 rounds\n"
     ]
    },
    {
     "name": "stderr",
     "output_type": "stream",
     "text": [
      "[I 2025-08-03 15:32:10,987] Trial 17 pruned. Trial was pruned at iteration 4.\n",
      "[I 2025-08-03 15:32:11,145] Trial 18 pruned. Trial was pruned at iteration 4.\n"
     ]
    },
    {
     "name": "stdout",
     "output_type": "stream",
     "text": [
      "Training until validation scores don't improve for 50 rounds\n",
      "Training until validation scores don't improve for 50 rounds\n"
     ]
    },
    {
     "name": "stderr",
     "output_type": "stream",
     "text": [
      "[I 2025-08-03 15:32:11,299] Trial 19 pruned. Trial was pruned at iteration 4.\n",
      "[I 2025-08-03 15:32:11,472] Trial 20 pruned. Trial was pruned at iteration 4.\n"
     ]
    },
    {
     "name": "stdout",
     "output_type": "stream",
     "text": [
      "Training until validation scores don't improve for 50 rounds\n",
      "Training until validation scores don't improve for 50 rounds\n"
     ]
    },
    {
     "name": "stderr",
     "output_type": "stream",
     "text": [
      "[I 2025-08-03 15:32:11,625] Trial 21 pruned. Trial was pruned at iteration 4.\n"
     ]
    },
    {
     "name": "stdout",
     "output_type": "stream",
     "text": [
      "Training until validation scores don't improve for 50 rounds\n",
      "Training until validation scores don't improve for 50 rounds\n"
     ]
    },
    {
     "name": "stderr",
     "output_type": "stream",
     "text": [
      "[I 2025-08-03 15:32:11,850] Trial 22 pruned. Trial was pruned at iteration 16.\n",
      "[I 2025-08-03 15:32:12,014] Trial 23 pruned. Trial was pruned at iteration 4.\n",
      "[I 2025-08-03 15:32:12,165] Trial 24 pruned. Trial was pruned at iteration 4.\n"
     ]
    },
    {
     "name": "stdout",
     "output_type": "stream",
     "text": [
      "Training until validation scores don't improve for 50 rounds\n",
      "Training until validation scores don't improve for 50 rounds\n"
     ]
    },
    {
     "name": "stderr",
     "output_type": "stream",
     "text": [
      "[I 2025-08-03 15:32:12,383] Trial 25 pruned. Trial was pruned at iteration 16.\n"
     ]
    },
    {
     "name": "stdout",
     "output_type": "stream",
     "text": [
      "Training until validation scores don't improve for 50 rounds\n"
     ]
    },
    {
     "name": "stderr",
     "output_type": "stream",
     "text": [
      "[I 2025-08-03 15:32:12,548] Trial 26 pruned. Trial was pruned at iteration 4.\n",
      "[I 2025-08-03 15:32:12,705] Trial 27 pruned. Trial was pruned at iteration 4.\n"
     ]
    },
    {
     "name": "stdout",
     "output_type": "stream",
     "text": [
      "Training until validation scores don't improve for 50 rounds\n",
      "Training until validation scores don't improve for 50 rounds\n"
     ]
    },
    {
     "name": "stderr",
     "output_type": "stream",
     "text": [
      "[I 2025-08-03 15:32:12,939] Trial 28 pruned. Trial was pruned at iteration 16.\n"
     ]
    },
    {
     "name": "stdout",
     "output_type": "stream",
     "text": [
      "Training until validation scores don't improve for 50 rounds\n"
     ]
    },
    {
     "name": "stderr",
     "output_type": "stream",
     "text": [
      "[I 2025-08-03 15:32:13,105] Trial 29 pruned. Trial was pruned at iteration 4.\n",
      "[I 2025-08-03 15:32:13,264] Trial 30 pruned. Trial was pruned at iteration 4.\n"
     ]
    },
    {
     "name": "stdout",
     "output_type": "stream",
     "text": [
      "Training until validation scores don't improve for 50 rounds\n",
      "Training until validation scores don't improve for 50 rounds\n"
     ]
    },
    {
     "name": "stderr",
     "output_type": "stream",
     "text": [
      "[I 2025-08-03 15:32:13,475] Trial 31 pruned. Trial was pruned at iteration 16.\n"
     ]
    },
    {
     "name": "stdout",
     "output_type": "stream",
     "text": [
      "Training until validation scores don't improve for 50 rounds\n",
      "Training until validation scores don't improve for 50 rounds\n"
     ]
    },
    {
     "name": "stderr",
     "output_type": "stream",
     "text": [
      "[I 2025-08-03 15:32:13,919] Trial 32 pruned. Trial was pruned at iteration 64.\n",
      "[I 2025-08-03 15:32:14,081] Trial 33 pruned. Trial was pruned at iteration 4.\n"
     ]
    },
    {
     "name": "stdout",
     "output_type": "stream",
     "text": [
      "Training until validation scores don't improve for 50 rounds\n",
      "Training until validation scores don't improve for 50 rounds\n"
     ]
    },
    {
     "name": "stderr",
     "output_type": "stream",
     "text": [
      "[I 2025-08-03 15:32:14,275] Trial 34 pruned. Trial was pruned at iteration 4.\n",
      "[I 2025-08-03 15:32:14,442] Trial 35 pruned. Trial was pruned at iteration 4.\n",
      "[I 2025-08-03 15:32:14,607] Trial 36 pruned. Trial was pruned at iteration 4.\n"
     ]
    },
    {
     "name": "stdout",
     "output_type": "stream",
     "text": [
      "Training until validation scores don't improve for 50 rounds\n",
      "Training until validation scores don't improve for 50 rounds\n",
      "Training until validation scores don't improve for 50 rounds\n"
     ]
    },
    {
     "name": "stderr",
     "output_type": "stream",
     "text": [
      "[I 2025-08-03 15:32:15,098] Trial 37 pruned. Trial was pruned at iteration 64.\n",
      "[I 2025-08-03 15:32:15,252] Trial 38 pruned. Trial was pruned at iteration 4.\n",
      "[I 2025-08-03 15:32:15,404] Trial 39 pruned. Trial was pruned at iteration 4.\n"
     ]
    },
    {
     "name": "stdout",
     "output_type": "stream",
     "text": [
      "Training until validation scores don't improve for 50 rounds\n",
      "Training until validation scores don't improve for 50 rounds\n"
     ]
    },
    {
     "name": "stderr",
     "output_type": "stream",
     "text": [
      "[I 2025-08-03 15:32:15,562] Trial 40 pruned. Trial was pruned at iteration 4.\n"
     ]
    },
    {
     "name": "stdout",
     "output_type": "stream",
     "text": [
      "Training until validation scores don't improve for 50 rounds\n",
      "Training until validation scores don't improve for 50 rounds\n"
     ]
    },
    {
     "name": "stderr",
     "output_type": "stream",
     "text": [
      "[I 2025-08-03 15:32:16,029] Trial 41 pruned. Trial was pruned at iteration 64.\n",
      "[I 2025-08-03 15:32:16,261] Trial 42 pruned. Trial was pruned at iteration 16.\n"
     ]
    },
    {
     "name": "stdout",
     "output_type": "stream",
     "text": [
      "Training until validation scores don't improve for 50 rounds\n"
     ]
    },
    {
     "name": "stderr",
     "output_type": "stream",
     "text": [
      "[I 2025-08-03 15:32:16,494] Trial 43 pruned. Trial was pruned at iteration 16.\n"
     ]
    },
    {
     "name": "stdout",
     "output_type": "stream",
     "text": [
      "Training until validation scores don't improve for 50 rounds\n"
     ]
    },
    {
     "name": "stderr",
     "output_type": "stream",
     "text": [
      "[I 2025-08-03 15:32:16,642] Trial 44 pruned. Trial was pruned at iteration 4.\n"
     ]
    },
    {
     "name": "stdout",
     "output_type": "stream",
     "text": [
      "Training until validation scores don't improve for 50 rounds\n",
      "Training until validation scores don't improve for 50 rounds\n"
     ]
    },
    {
     "name": "stderr",
     "output_type": "stream",
     "text": [
      "[I 2025-08-03 15:32:17,077] Trial 45 pruned. Trial was pruned at iteration 64.\n",
      "[I 2025-08-03 15:32:17,234] Trial 46 pruned. Trial was pruned at iteration 4.\n"
     ]
    },
    {
     "name": "stdout",
     "output_type": "stream",
     "text": [
      "Training until validation scores don't improve for 50 rounds\n",
      "Training until validation scores don't improve for 50 rounds\n"
     ]
    },
    {
     "name": "stderr",
     "output_type": "stream",
     "text": [
      "[I 2025-08-03 15:32:17,480] Trial 47 pruned. Trial was pruned at iteration 16.\n",
      "[I 2025-08-03 15:32:17,694] Trial 48 pruned. Trial was pruned at iteration 16.\n"
     ]
    },
    {
     "name": "stdout",
     "output_type": "stream",
     "text": [
      "Training until validation scores don't improve for 50 rounds\n"
     ]
    },
    {
     "name": "stderr",
     "output_type": "stream",
     "text": [
      "[I 2025-08-03 15:32:17,867] Trial 49 pruned. Trial was pruned at iteration 4.\n"
     ]
    },
    {
     "name": "stdout",
     "output_type": "stream",
     "text": [
      "Training until validation scores don't improve for 50 rounds\n",
      "Best AUC: 0.8585\n",
      "Best Params: {'learning_rate': 0.04651854585555216, 'num_leaves': 32, 'max_depth': 11, 'min_data_in_leaf': 93, 'feature_fraction': 0.8055042340349872, 'bagging_fraction': 0.7282699516857707, 'bagging_freq': 3, 'lambda_l1': 0.004893616962314094, 'lambda_l2': 0.000365174481237317}\n"
     ]
    }
   ],
   "source": [
    "# 6️⃣ Run Optuna Study (TPESampler)\n",
    "study = optuna.create_study(direction=\"maximize\", sampler=TPESampler(), pruner=SuccessiveHalvingPruner())\n",
    "study.optimize(objective, n_trials=50)\n",
    "\n",
    "# Save study\n",
    "with open(\"../outputs/best_params.json\", \"w\") as f:\n",
    "    json.dump(study.best_trial.params, f)\n",
    "\n",
    "print(f\"Best AUC: {study.best_value:.4f}\")\n",
    "print(\"Best Params:\", study.best_params)\n"
   ]
  },
  {
   "cell_type": "code",
   "execution_count": 22,
   "id": "3b35d09c",
   "metadata": {},
   "outputs": [
    {
     "data": {
      "image/png": "[encoded data removed]",
      "text/plain": [
       "<Figure size 640x480 with 1 Axes>"
      ]
     },
     "metadata": {},
     "output_type": "display_data"
    },
    {
     "data": {
      "image/png": "[encoded data removed]",
      "text/plain": [
       "<Figure size 640x480 with 1 Axes>"
      ]
     },
     "metadata": {},
     "output_type": "display_data"
    }
   ],
   "source": [
    "# 7️⃣ Optimization History & Importance\n",
    "optuna.visualization.matplotlib.plot_optimization_history(study)\n",
    "plt.tight_layout()\n",
    "plt.savefig(\"../outputs/optuna_history.png\")\n",
    "plt.show()\n",
    "\n",
    "optuna.visualization.matplotlib.plot_param_importances(study)\n",
    "plt.tight_layout()\n",
    "plt.savefig(\"../outputs/param_importances.png\")\n",
    "plt.show()\n"
   ]
  },
  {
   "cell_type": "code",
   "execution_count": 23,
   "id": "439fc061",
   "metadata": {},
   "outputs": [
    {
     "name": "stdout",
     "output_type": "stream",
     "text": [
      "Training until validation scores don't improve for 30 rounds\n",
      "Early stopping, best iteration is:\n",
      "[238]\tvalid_0's auc: 0.858757\tvalid_0's binary_logloss: 0.264152\n",
      "Final Tuned AUC: 0.8588\n"
     ]
    }
   ],
   "source": [
    "# 8️⃣ Evaluate Final Model on Validation Set\n",
    "\n",
    "best_model = lgb.LGBMClassifier(**study.best_params, n_estimators=1000)\n",
    "\n",
    "best_model.fit(\n",
    "    X_train,\n",
    "    y_train,\n",
    "    eval_set=[(X_val, y_val)],\n",
    "    eval_metric=\"auc\",\n",
    "    callbacks=[\n",
    "        lgb.early_stopping(stopping_rounds=30),\n",
    "        lgb.log_evaluation(period=0)\n",
    "    ]\n",
    ")\n",
    "\n",
    "final_preds = best_model.predict_proba(X_val)[:, 1]\n",
    "final_auc = roc_auc_score(y_val, final_preds)\n",
    "print(f\"Final Tuned AUC: {final_auc:.4f}\")\n"
   ]
  },
  {
   "cell_type": "code",
   "execution_count": 24,
   "id": "1f494725",
   "metadata": {},
   "outputs": [],
   "source": [
    "# 9️⃣ SHAP Explainability (on sample to avoid long compute time)\n",
    "\n",
    "import shap\n",
    "\n",
    "# Sample 500 rows from validation set for faster SHAP computation\n",
    "X_val_sample = X_val.sample(n=500, random_state=42)\n",
    "\n",
    "explainer = shap.TreeExplainer(best_model)\n",
    "shap_values = explainer.shap_values(X_val_sample)\n",
    "\n",
    "# Summary plot\n",
    "shap.summary_plot(shap_values, X_val_sample, show=False)\n",
    "plt.savefig(\"../outputs/shap_summary.png\")\n",
    "plt.close()\n",
    "\n",
    "# Interaction values (optional)\n",
    "interaction_vals = explainer.shap_interaction_values(X_val_sample)\n",
    "shap.summary_plot(interaction_vals, X_val_sample, show=False)\n",
    "plt.savefig(\"../outputs/shap_interaction.png\")\n",
    "plt.close()\n"
   ]
  },
  {
   "cell_type": "code",
   "execution_count": 25,
   "id": "abdfcaca",
   "metadata": {},
   "outputs": [
    {
     "name": "stdout",
     "output_type": "stream",
     "text": [
      "Training until validation scores don't improve for 30 rounds\n",
      "Early stopping, best iteration is:\n",
      "[246]\tvalid_0's auc: 0.85824\tvalid_0's binary_logloss: 0.264434\n",
      "Training until validation scores don't improve for 30 rounds\n",
      "Early stopping, best iteration is:\n",
      "[252]\tvalid_0's auc: 0.860143\tvalid_0's binary_logloss: 0.26374\n",
      "Training until validation scores don't improve for 30 rounds\n",
      "Early stopping, best iteration is:\n",
      "[143]\tvalid_0's auc: 0.859052\tvalid_0's binary_logloss: 0.264682\n",
      "AUCs across splits: ['0.8582', '0.8601', '0.8591']\n",
      "Mean: 0.8591, Std: 0.0008\n"
     ]
    }
   ],
   "source": [
    "# 🔟 Hyperparameter Stability\n",
    "\n",
    "stability_scores = []\n",
    "\n",
    "for seed in [10, 20, 30]:\n",
    "    X_train_, X_val_, y_train_, y_val_ = train_test_split(\n",
    "        X, y, test_size=0.2, stratify=y, random_state=seed\n",
    "    )\n",
    "\n",
    "    model = lgb.LGBMClassifier(**study.best_params, n_estimators=1000)\n",
    "\n",
    "    model.fit(\n",
    "        X_train_, y_train_,\n",
    "        eval_set=[(X_val_, y_val_)],\n",
    "        eval_metric=\"auc\",\n",
    "        callbacks=[\n",
    "            lgb.early_stopping(stopping_rounds=30),\n",
    "            lgb.log_evaluation(period=0)\n",
    "        ]\n",
    "    )\n",
    "\n",
    "    preds = model.predict_proba(X_val_)[:, 1]\n",
    "    score = roc_auc_score(y_val_, preds)\n",
    "    stability_scores.append(score)\n",
    "\n",
    "print(\"AUCs across splits:\", [f\"{s:.4f}\" for s in stability_scores])\n",
    "print(f\"Mean: {np.mean(stability_scores):.4f}, Std: {np.std(stability_scores):.4f}\")\n"
   ]
  },
  {
   "cell_type": "code",
   "execution_count": 26,
   "id": "aacbe81d",
   "metadata": {},
   "outputs": [
    {
     "name": "stdout",
     "output_type": "stream",
     "text": [
      "✅ Saved test set predictions to outputs/final_predictions.csv\n"
     ]
    }
   ],
   "source": [
    "\n",
    "test_df = pd.read_csv(\"../data/test.csv\")\n",
    "\n",
    "# Preprocess same as train\n",
    "test_df.drop(columns=[\"id\"], inplace=True)\n",
    "test_df[\"Gender\"] = test_df[\"Gender\"].map({\"Male\": 1, \"Female\": 0})\n",
    "test_df[\"Vehicle_Damage\"] = test_df[\"Vehicle_Damage\"].map({\"Yes\": 1, \"No\": 0})\n",
    "test_df[\"Vehicle_Age\"] = test_df[\"Vehicle_Age\"].map({\n",
    "    \"< 1 Year\": 0,\n",
    "    \"1-2 Year\": 1,\n",
    "    \"> 2 Years\": 2\n",
    "})\n",
    "\n",
    "# Predict\n",
    "test_preds = best_model.predict_proba(test_df)[:, 1]\n",
    "\n",
    "# Save predictions as raw probabilities\n",
    "output_df = pd.DataFrame({\n",
    "    \"Row\": range(len(test_df)),\n",
    "    \"Predicted_Probability\": test_preds\n",
    "})\n",
    "\n",
    "output_df.to_csv(\"../outputs/final_predictions.csv\", index=False)\n",
    "print(\"✅ Saved test set predictions to outputs/final_predictions.csv\")\n"
   ]
  }
 ],
 "metadata": {
  "kernelspec": {
   "display_name": "Python (HyperOpt Scale)",
   "language": "python",
   "name": "hyperopt-scale"
  },
  "language_info": {
   "codemirror_mode": {
    "name": "ipython",
    "version": 3
   },
   "file_extension": ".py",
   "mimetype": "text/x-python",
   "name": "python",
   "nbconvert_exporter": "python",
   "pygments_lexer": "ipython3",
   "version": "3.13.0"
  }
 },
 "nbformat": 4,
 "nbformat_minor": 5
}
